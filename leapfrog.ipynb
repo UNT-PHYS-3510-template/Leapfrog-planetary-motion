{
 "cells": [
  {
   "cell_type": "markdown",
   "metadata": {},
   "source": [
    "# Leapfrog Algorithm for a Simple Harmonic Oscillator\n",
    "Import useful modules"
   ]
  },
  {
   "cell_type": "code",
   "execution_count": 1,
   "metadata": {},
   "outputs": [],
   "source": [
    "import numpy as np\n",
    "import matplotlib.pyplot as plt\n",
    "import matplotlib.style as style\n",
    "style.use('dark_background') # you can comment out this line if you are not using a dark background"
   ]
  },
  {
   "cell_type": "markdown",
   "metadata": {},
   "source": [
    "Define the ODE solvers. "
   ]
  },
  {
   "cell_type": "code",
   "execution_count": null,
   "metadata": {},
   "outputs": [],
   "source": [
    "def RK2(diffeq,dof,dt):\n",
    "    \"\"\"\n",
    "    Runge-Kutta second order method for ODEs:\n",
    "    Given the degrees of freedom at time t\n",
    "    Returns the degrees of freedom at time t+dt\n",
    "    NOTE: the diffeq function passed in input needs to return\n",
    "    the derivative wrt time of each degree of freedom of the system\n",
    "    \"\"\"\n",
    "    k1=dt*diffeq(dof)\n",
    "    k2=dt*diffeq(dof+0.5*k1)\n",
    "    return dof+k2\n",
    "\n",
    "def leapfrog(diffeq,r,v,dt):\n",
    "    \"\"\"\n",
    "    Leapfrog algorithm for Hamiltonian dynamics\n",
    "    Given the position and velocity arrays at time t\n",
    "    Returns the position and velocity arrays at time t+dt\n",
    "    NOTE: the diffeq function passed in input needs to return \n",
    "        dr/dt for id=0\n",
    "        dv/dt for id=1\n",
    "    \"\"\"\n",
    "    r=r+diffeq(0,r,v)*dt/2.\n",
    "    v=v+diffeq(1,r,v)*dt\n",
    "    r=r+diffeq(0,r,v)*dt/2.\n",
    "    return r, v"
   ]
  },
  {
   "cell_type": "markdown",
   "metadata": {},
   "source": [
    "Assignment 1A: Define two alternative functions to describe a simple harmonic oscillator, one compatible with the RK solver and one for the leapfrog solver. You are already familiar with the requirements of the RK solver (a single numpy array with all the degrees of freedom of the system, positions first, velocities second). The leapfrog algorithm designed in the book has slightly different input/output: it uses an ID variable to check wether we are evaluating the righthandside of the differential equation for the position or for the velocity. It needs to return dr/dt (i.e. the velocity) for ID=0, while it needs to return dv/dt (i.e. the acceleration) for ID=1. "
   ]
  },
  {
   "cell_type": "code",
   "execution_count": 24,
   "metadata": {},
   "outputs": [],
   "source": [
    "def simple_harmonic_lf(id,r,v):\n",
    "    \"\"\"\n",
    "    Return the righthandside of the differential equation \n",
    "    for a simple harmonic motion, for which F=-kr\n",
    "    This function can be called by a leapfrog solver, for which \n",
    "    the differential eqautions for positions and velocities are decoupled\n",
    "    When id=0 this function returns dr/dt (i.e. the velocity)\n",
    "    when id=1 this function returns dv/dt (i.e. the acceleration)\n",
    "    \"\"\"\n",
    "    if id == 0: return \n",
    "    return \n",
    "\n",
    "def simple_harmonic_rk(dof):\n",
    "    \"\"\"\n",
    "    Return the righthandside of the differential equation \n",
    "    for a simple harmonic motion, for which F=-kr\n",
    "    This function can be called by a RK solver, for which \n",
    "    all the 1st order differential equations are solved at the same time\n",
    "    Assuming a 1D system, the degrees of freedom in input are \n",
    "    position (dof[0]) and velocity (dof[1]) \n",
    "    \"\"\"\n",
    "    ddofdt=np.zeros(dof.shape)\n",
    "    ddofdt[0]=\n",
    "    ddofdt[1]=\n",
    "    return ddofdt"
   ]
  },
  {
   "cell_type": "markdown",
   "metadata": {},
   "source": [
    "Specify the physical parameters of the system. For simplicity we will assume a system with an elastic constant of 1 N/m and a mass of 2 kg. "
   ]
  },
  {
   "cell_type": "code",
   "execution_count": 4,
   "metadata": {},
   "outputs": [],
   "source": [
    "kel=1. # let's assume these values are in SI units, so N/m\n",
    "mass=2. # let's assume these values are in SI units, so Kg"
   ]
  },
  {
   "cell_type": "markdown",
   "metadata": {},
   "source": [
    "Define to functions to compute the total energy of the simple harmonic oscillator from its degrees of freedom. You may want to implement two versions, depending on wether the degrees of freedom are passed using the leapfrog (two separate arrays for r and v) or the RK convention (a single array with position first and velocity second)."
   ]
  },
  {
   "cell_type": "code",
   "execution_count": null,
   "metadata": {},
   "outputs": [],
   "source": [
    "def sho_energy_lf(r,v):\n",
    "    \"\"\"\n",
    "    Compute the total energy of a simple harmonic oscillator \n",
    "    E = 1/2 m*v**2 + 1/2 k*r**2\n",
    "    \"\"\"\n",
    "    return \n",
    "\n",
    "def sho_energy_rk(dof):\n",
    "    \"\"\"\n",
    "    Compute the total energy of a simple harmonic oscillator \n",
    "    E = 1/2 m*dof[1]**2 + 1/2 k*dof[0]**2\n",
    "    \"\"\"\n",
    "    return"
   ]
  },
  {
   "cell_type": "markdown",
   "metadata": {},
   "source": [
    "Assignment 1B-1C: Run a simulation with the leapfrog and the RK algorithms. Store the trajectories in phase space (so both the position and the velocity of the object) to be able to plot them later. Store the total energy of the system to be able to check energy conservation.\n",
    "Start a simulation out of equilibrium, say with x=1. and vx=0., but you can play with the parameters as much as you like."
   ]
  },
  {
   "cell_type": "code",
   "execution_count": 44,
   "metadata": {},
   "outputs": [],
   "source": [
    "xlf=[] # setup a container to store the position as a function of time\n",
    "vlf=[] # setup a container to store the velocity as a function of time\n",
    "elf=[] # setup a container to store the total energy as a function of time\n",
    "#\n",
    "nsteps=100 # theis is just a placeholder, you may want to change these values\n",
    "dt=0.2 # this is just a placeholder, you may want to change these values\n",
    "for i in range(nsteps):\n",
    "    pos,vel=leapfrog(simple_harmonic_lf,pos,vel,dt)\n",
    "    xlf.append()\n",
    "    vlf.append()\n",
    "    elf.append()"
   ]
  },
  {
   "cell_type": "code",
   "execution_count": 62,
   "metadata": {},
   "outputs": [],
   "source": [
    "nsteps=10000\n",
    "dt=0.2\n",
    "xrk=[] # setup a container to store the position as a function of time\n",
    "vrk=[] # setup a container to store the velocity as a function of time\n",
    "erk=[] # setup a container to store the total energy as a function of time\n",
    "for i in range(nsteps):\n",
    "    dof=RK2(simple_harmonic_rk,dof,dt)\n",
    "    xrk.append()\n",
    "    vrk.append()\n",
    "    erk.append()"
   ]
  },
  {
   "cell_type": "code",
   "execution_count": 63,
   "metadata": {},
   "outputs": [
    {
     "data": {
      "image/png": "[encoded data removed]",
      "text/plain": [
       "<Figure size 432x288 with 2 Axes>"
      ]
     },
     "metadata": {},
     "output_type": "display_data"
    }
   ],
   "source": [
    "plt.subplot(121)\n",
    "plt.plot(xrk,vrk)\n",
    "plt.axis('equal')\n",
    "plt.subplot(122)\n",
    "plt.plot(xlf,vlf)\n",
    "plt.axis('equal')\n",
    "plt.show()"
   ]
  }
 ],
 "metadata": {
  "interpreter": {
   "hash": "2d7846955ef7c6cdb0317123bc42ab1f1df9d7c4fbf3a9f5b21349871b965b49"
  },
  "kernelspec": {
   "display_name": "Python 3.6.5 64-bit ('base': conda)",
   "language": "python",
   "name": "python3"
  },
  "language_info": {
   "codemirror_mode": {
    "name": "ipython",
    "version": 3
   },
   "file_extension": ".py",
   "mimetype": "text/x-python",
   "name": "python",
   "nbconvert_exporter": "python",
   "pygments_lexer": "ipython3",
   "version": "3.6.3"
  },
  "orig_nbformat": 4
 },
 "nbformat": 4,
 "nbformat_minor": 2
}
